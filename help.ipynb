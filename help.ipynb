{
 "cells": [
  {
   "cell_type": "code",
   "execution_count": 8,
   "metadata": {},
   "outputs": [],
   "source": [
    "import csv \n",
    "\n",
    "def pre_read_csv(csv_path, num_lines=10):\n",
    "    with open(csv_path, 'r') as f:\n",
    "        cnt = 0\n",
    "        for row in csv.reader(f):\n",
    "            print(row)\n",
    "            cnt += 1\n",
    "            if cnt > num_lines:\n",
    "                break"
   ]
  },
  {
   "cell_type": "code",
   "execution_count": 9,
   "metadata": {},
   "outputs": [
    {
     "name": "stdout",
     "output_type": "stream",
     "text": [
      "['//X Y Z Coord._Z']\n",
      "['18342265']\n",
      "['7.18200016 0.00000000 -1.33947003 -1.339470']\n",
      "['7.18499994 0.00000000 -1.33915997 -1.339160']\n",
      "['7.18800020 0.00000000 -1.33888996 -1.338890']\n",
      "['7.19099998 0.00000000 -1.33885002 -1.338850']\n",
      "['7.19399977 0.00000000 -1.33859003 -1.338590']\n",
      "['7.19700003 0.00000000 -1.33831000 -1.338310']\n",
      "['7.19999981 0.00000000 -1.33794999 -1.337950']\n",
      "['7.20300007 0.00000000 -1.33750999 -1.337510']\n",
      "['7.20599985 0.00000000 -1.33722997 -1.337230']\n"
     ]
    }
   ],
   "source": [
    "round_corner_example_path = \"./data/round_corner_example.csv\"\n",
    "pre_read_csv(round_corner_example_path, 10)"
   ]
  },
  {
   "cell_type": "code",
   "execution_count": 3,
   "metadata": {},
   "outputs": [
    {
     "name": "stdout",
     "output_type": "stream",
     "text": [
      "['//X Y Z Coord._Z']\n",
      "['18247323']\n",
      "['2.25000000 0.00000000 -0.04465000 -0.044650']\n",
      "['2.25300002 0.00000000 -0.03955000 -0.039550']\n",
      "['2.25600004 0.00000000 -0.03551000 -0.035510']\n",
      "['2.25900006 0.00000000 -0.03304000 -0.033040']\n",
      "['2.26200008 0.00000000 -0.03152000 -0.031520']\n",
      "['2.26500010 0.00000000 -0.03043000 -0.030430']\n",
      "['2.26799989 0.00000000 -0.02955000 -0.029550']\n",
      "['2.27099991 0.00000000 -0.02817000 -0.028170']\n",
      "['2.27399993 0.00000000 -0.02692000 -0.026920']\n",
      "['//X Y Z Coord._Z']\n",
      "['49573671']\n",
      "['1.58399999 0.00000000 -1.32796001 -1.327960']\n",
      "['1.58700001 0.00000000 -1.32788002 -1.327880']\n",
      "['1.59000003 0.00000000 -1.32780004 -1.327800']\n",
      "['1.59300005 0.00000000 -1.32767999 -1.327680']\n",
      "['1.59599996 0.00000000 -1.32755005 -1.327550']\n",
      "['1.59899998 0.00000000 -1.32745004 -1.327450']\n",
      "['1.60200000 0.00000000 -1.32740998 -1.327410']\n",
      "['1.60500002 0.00000000 -1.32737005 -1.327370']\n",
      "['1.60800004 0.00000000 -1.32734001 -1.327340']\n"
     ]
    }
   ],
   "source": [
    "wheel_front_example_path = \"./data/wheel_front_example_1.csv\"\n",
    "pre_read_csv(wheel_front_example_path, 10)\n",
    "wheel_front_example_path = \"./data/wheel_front_example_2.csv\"\n",
    "pre_read_csv(wheel_front_example_path, 10)"
   ]
  },
  {
   "cell_type": "code",
   "execution_count": 10,
   "metadata": {},
   "outputs": [
    {
     "ename": "SyntaxError",
     "evalue": "invalid syntax (2218224655.py, line 4)",
     "output_type": "error",
     "traceback": [
      "\u001b[0;36m  File \u001b[0;32m\"/tmp/ipykernel_1303304/2218224655.py\"\u001b[0;36m, line \u001b[0;32m4\u001b[0m\n\u001b[0;31m    reader = csv.\u001b[0m\n\u001b[0m                 ^\u001b[0m\n\u001b[0;31mSyntaxError\u001b[0m\u001b[0;31m:\u001b[0m invalid syntax\n"
     ]
    }
   ],
   "source": [
    "import numpy as np\n",
    "\n",
    "with open(round_corner_example_path, 'r') as f:\n",
    "    reader = csv.\n",
    "    data = np.array(list(reader), dtype=np.float32)\n",
    "    "
   ]
  }
 ],
 "metadata": {
  "kernelspec": {
   "display_name": "ML_Project",
   "language": "python",
   "name": "python3"
  },
  "language_info": {
   "codemirror_mode": {
    "name": "ipython",
    "version": 3
   },
   "file_extension": ".py",
   "mimetype": "text/x-python",
   "name": "python",
   "nbconvert_exporter": "python",
   "pygments_lexer": "ipython3",
   "version": "3.7.13"
  },
  "orig_nbformat": 4
 },
 "nbformat": 4,
 "nbformat_minor": 2
}
